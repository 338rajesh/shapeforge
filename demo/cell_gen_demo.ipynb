{
 "cells": [
  {
   "cell_type": "markdown",
   "id": "05572e16",
   "metadata": {},
   "source": [
    "This notebook tries to implement the testing of shapeforge"
   ]
  },
  {
   "cell_type": "code",
   "execution_count": null,
   "id": "addde550",
   "metadata": {},
   "outputs": [],
   "source": [
    "import shapeforge\n",
    "import matplotlib.pyplot as plt"
   ]
  },
  {
   "cell_type": "code",
   "execution_count": null,
   "id": "c37e7f90",
   "metadata": {},
   "outputs": [],
   "source": [
    "config = {\n",
    "    \"verbose\": True,\n",
    "    \"num_units\": 1,  # Number of unit cells to generate\n",
    "    \"periodicity\": True,  # Whether the domain is periodic\n",
    "    \"randomness_seed\": 21,\n",
    "    \"cell_domain\": {\n",
    "        \"shape\": \"rectangle\",\n",
    "        \"bounds\": {\"x_min\": 0, \"x_max\": 20, \"y_min\": 0, \"y_max\": 20},\n",
    "    },\n",
    "    \"inclusions\": [\n",
    "        {\n",
    "            \"shape\": \"Circle\",\n",
    "            \"volume_fraction\": 0.6,\n",
    "            \"parameters\": {\n",
    "                \"radius\": {\n",
    "                    \"distribution\": {\"name\": \"norm\", \"loc\": 2, \"scale\": 0.5}\n",
    "                }\n",
    "            },\n",
    "        },\n",
    "        {\n",
    "            \"shape\": \"Ellipse\",\n",
    "            \"volume_fraction\": 0.2,\n",
    "            \"parameters\": {\n",
    "                \"semi_major_length\": {\n",
    "                    \"distribution\": {\n",
    "                        \"name\": \"uniform\",\n",
    "                        \"loc\": 4.0,\n",
    "                        \"scale\": 0.5,\n",
    "                    }\n",
    "                },\n",
    "                \"semi_minor_length\": {\n",
    "                    \"distribution\": {\n",
    "                        \"name\": \"uniform\",\n",
    "                        \"loc\": 1.0,\n",
    "                        \"scale\": 1.0,\n",
    "                    }\n",
    "                },\n",
    "            },\n",
    "        },\n",
    "    ],\n",
    "    \"min_surface_to_surface_distance\": 0.5,  # Minimum distance between shapes\n",
    "    \"optimiser\": {\n",
    "        \"name\": \"nmspg\",  # Optimisation algorithm to use\n",
    "        \"parameters\": {\n",
    "            \"max_iterations\": 1000  # Maximum number of iterations for the optimiser\n",
    "        },\n",
    "    },\n",
    "}"
   ]
  },
  {
   "cell_type": "code",
   "execution_count": null,
   "id": "88697cea",
   "metadata": {},
   "outputs": [],
   "source": [
    "cell = shapeforge.generate_unit_cell(config)"
   ]
  },
  {
   "cell_type": "code",
   "execution_count": null,
   "id": "4737fc43",
   "metadata": {},
   "outputs": [],
   "source": [
    "fig, axs = plt.subplots(figsize=(8, 8))\n",
    "cell.plot(fig, axs, show=True)"
   ]
  }
 ],
 "metadata": {
  "kernelspec": {
   "display_name": ".venv",
   "language": "python",
   "name": "python3"
  },
  "language_info": {
   "codemirror_mode": {
    "name": "ipython",
    "version": 3
   },
   "file_extension": ".py",
   "mimetype": "text/x-python",
   "name": "python",
   "nbconvert_exporter": "python",
   "pygments_lexer": "ipython3",
   "version": "3.12.6"
  }
 },
 "nbformat": 4,
 "nbformat_minor": 5
}
